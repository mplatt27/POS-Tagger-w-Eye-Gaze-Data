{
 "cells": [
  {
   "cell_type": "code",
   "execution_count": null,
   "metadata": {},
   "outputs": [],
   "source": [
    "\"\"\"\n",
    "  Feature visualization\n",
    "  author: MP\n",
    "  date: 4/29/2021\n",
    "  \n",
    "  Plot the eye gaze features in open vs. closed classes. \n",
    "  \n",
    "\"\"\""
   ]
  },
  {
   "cell_type": "code",
   "execution_count": 1,
   "metadata": {},
   "outputs": [],
   "source": [
    "import pickle\n",
    "import pandas as pd\n",
    "import numpy as np\n",
    "from statistics import mean\n",
    "from sklearn.neighbors import KernelDensity\n",
    "import matplotlib.pyplot as plt"
   ]
  },
  {
   "cell_type": "code",
   "execution_count": 2,
   "metadata": {},
   "outputs": [],
   "source": [
    "# load in the normalized type features\n",
    "handle = open('C:/6120-NLP/project/data/pickles/type_dict.pickle', 'rb')\n",
    "type_features = pickle.load(handle)\n",
    "handle.close()\n",
    "\n",
    "# load in pos dict\n",
    "handle = open('C:/6120-NLP/project/data/pickles/pos_dict.pickle', 'rb')\n",
    "pos_dict = pickle.load(handle)\n",
    "pos_dict.pop('FALSE')\n",
    "handle.close()"
   ]
  },
  {
   "cell_type": "code",
   "execution_count": 3,
   "metadata": {},
   "outputs": [
    {
     "data": {
      "text/html": [
       "<div>\n",
       "<style scoped>\n",
       "    .dataframe tbody tr th:only-of-type {\n",
       "        vertical-align: middle;\n",
       "    }\n",
       "\n",
       "    .dataframe tbody tr th {\n",
       "        vertical-align: top;\n",
       "    }\n",
       "\n",
       "    .dataframe thead th {\n",
       "        text-align: right;\n",
       "    }\n",
       "</style>\n",
       "<table border=\"1\" class=\"dataframe\">\n",
       "  <thead>\n",
       "    <tr style=\"text-align: right;\">\n",
       "      <th></th>\n",
       "      <th>WORD_FIXATION_COUNT</th>\n",
       "      <th>WORD_FIXATION_%</th>\n",
       "      <th>WORD_GAZE_DURATION</th>\n",
       "      <th>WORD_FIRST_FIXATION_DURATION</th>\n",
       "      <th>WORD_SECOND_FIXATION_DURATION</th>\n",
       "      <th>WORD_THIRD_FIXATION_DURATION</th>\n",
       "      <th>WORD_TOTAL_READING_TIME</th>\n",
       "      <th>WORD_TOTAL_READING_TIME_%</th>\n",
       "      <th>WORD_SKIP</th>\n",
       "      <th>WORD_SPILLOVER</th>\n",
       "      <th>WORD_RUN_COUNT</th>\n",
       "    </tr>\n",
       "  </thead>\n",
       "  <tbody>\n",
       "    <tr>\n",
       "      <th>&lt;?&gt;</th>\n",
       "      <td>1.342770</td>\n",
       "      <td>0.016443</td>\n",
       "      <td>234.515001</td>\n",
       "      <td>195.610760</td>\n",
       "      <td>68.805549</td>\n",
       "      <td>20.777577</td>\n",
       "      <td>295.407737</td>\n",
       "      <td>0.017278</td>\n",
       "      <td>0.265847</td>\n",
       "      <td>62.975299</td>\n",
       "      <td>1.098240</td>\n",
       "    </tr>\n",
       "    <tr>\n",
       "      <th>A</th>\n",
       "      <td>0.308294</td>\n",
       "      <td>0.003967</td>\n",
       "      <td>56.860304</td>\n",
       "      <td>54.688921</td>\n",
       "      <td>5.649932</td>\n",
       "      <td>1.002935</td>\n",
       "      <td>61.341788</td>\n",
       "      <td>0.003761</td>\n",
       "      <td>0.764564</td>\n",
       "      <td>21.397862</td>\n",
       "      <td>0.298284</td>\n",
       "    </tr>\n",
       "    <tr>\n",
       "      <th>Abbey</th>\n",
       "      <td>1.071429</td>\n",
       "      <td>0.011907</td>\n",
       "      <td>249.142857</td>\n",
       "      <td>160.785714</td>\n",
       "      <td>90.428571</td>\n",
       "      <td>12.428571</td>\n",
       "      <td>263.642857</td>\n",
       "      <td>0.014486</td>\n",
       "      <td>0.714286</td>\n",
       "      <td>36.857143</td>\n",
       "      <td>0.785714</td>\n",
       "    </tr>\n",
       "    <tr>\n",
       "      <th>About</th>\n",
       "      <td>0.959184</td>\n",
       "      <td>0.011497</td>\n",
       "      <td>164.989796</td>\n",
       "      <td>139.244898</td>\n",
       "      <td>46.132653</td>\n",
       "      <td>5.785714</td>\n",
       "      <td>193.826531</td>\n",
       "      <td>0.011092</td>\n",
       "      <td>0.428571</td>\n",
       "      <td>62.928571</td>\n",
       "      <td>0.826531</td>\n",
       "    </tr>\n",
       "    <tr>\n",
       "      <th>Above</th>\n",
       "      <td>1.000000</td>\n",
       "      <td>0.010893</td>\n",
       "      <td>152.714286</td>\n",
       "      <td>144.214286</td>\n",
       "      <td>32.142857</td>\n",
       "      <td>7.428571</td>\n",
       "      <td>183.785714</td>\n",
       "      <td>0.009914</td>\n",
       "      <td>0.500000</td>\n",
       "      <td>31.785714</td>\n",
       "      <td>0.857143</td>\n",
       "    </tr>\n",
       "  </tbody>\n",
       "</table>\n",
       "</div>"
      ],
      "text/plain": [
       "       WORD_FIXATION_COUNT  WORD_FIXATION_%  WORD_GAZE_DURATION  \\\n",
       "<?>               1.342770         0.016443          234.515001   \n",
       "A                 0.308294         0.003967           56.860304   \n",
       "Abbey             1.071429         0.011907          249.142857   \n",
       "About             0.959184         0.011497          164.989796   \n",
       "Above             1.000000         0.010893          152.714286   \n",
       "\n",
       "       WORD_FIRST_FIXATION_DURATION  WORD_SECOND_FIXATION_DURATION  \\\n",
       "<?>                      195.610760                      68.805549   \n",
       "A                         54.688921                       5.649932   \n",
       "Abbey                    160.785714                      90.428571   \n",
       "About                    139.244898                      46.132653   \n",
       "Above                    144.214286                      32.142857   \n",
       "\n",
       "       WORD_THIRD_FIXATION_DURATION  WORD_TOTAL_READING_TIME  \\\n",
       "<?>                       20.777577               295.407737   \n",
       "A                          1.002935                61.341788   \n",
       "Abbey                     12.428571               263.642857   \n",
       "About                      5.785714               193.826531   \n",
       "Above                      7.428571               183.785714   \n",
       "\n",
       "       WORD_TOTAL_READING_TIME_%  WORD_SKIP  WORD_SPILLOVER  WORD_RUN_COUNT  \n",
       "<?>                     0.017278   0.265847       62.975299        1.098240  \n",
       "A                       0.003761   0.764564       21.397862        0.298284  \n",
       "Abbey                   0.014486   0.714286       36.857143        0.785714  \n",
       "About                   0.011092   0.428571       62.928571        0.826531  \n",
       "Above                   0.009914   0.500000       31.785714        0.857143  "
      ]
     },
     "execution_count": 3,
     "metadata": {},
     "output_type": "execute_result"
    }
   ],
   "source": [
    "# create data frame so we can see order of features\n",
    "type_features_df = pd.DataFrame.from_dict(type_features, orient='index',\n",
    "                                         columns=['WORD_FIXATION_COUNT', 'WORD_FIXATION_%', 'WORD_GAZE_DURATION',\n",
    "                                                  'WORD_FIRST_FIXATION_DURATION', 'WORD_SECOND_FIXATION_DURATION',\n",
    "                                                 'WORD_THIRD_FIXATION_DURATION', 'WORD_TOTAL_READING_TIME',\n",
    "                                                 'WORD_TOTAL_READING_TIME_%', 'WORD_SKIP', 'WORD_SPILLOVER',\n",
    "                                                 'WORD_RUN_COUNT'])\n",
    "type_features_df.head()"
   ]
  },
  {
   "cell_type": "code",
   "execution_count": 4,
   "metadata": {},
   "outputs": [],
   "source": [
    "# make a dictionary mapping pos --> values for a given feature, when the corresponding word is in said pos class\n",
    "# first for word fixation count\n",
    "WORD_FIXATION_COUNT_d = {'VERB': [], 'NOUN': [], 'PRON': [], 'DET':[], 'ADP': [], 'ADV':[], 'CONJ':[],\n",
    "                        'ADJ':[], 'X': [], 'NUM': [], 'PRT': []}\n",
    "for key, value in type_features.items():\n",
    "    pos = pos_dict.get(key, 0)\n",
    "    try:\n",
    "        WORD_FIXATION_COUNT_d[pos].append(value[0])\n",
    "    except:\n",
    "        pass\n",
    "\n",
    "# average over all values for this class\n",
    "for key, value in WORD_FIXATION_COUNT_d.items():\n",
    "    WORD_FIXATION_COUNT_d[key] = mean(value)"
   ]
  },
  {
   "cell_type": "code",
   "execution_count": 5,
   "metadata": {},
   "outputs": [],
   "source": [
    "# now for gaze duration\n",
    "WORD_GAZE_DURATION_d = {'VERB': [], 'NOUN': [], 'PRON': [], 'DET':[], 'ADP': [], 'ADV':[], 'CONJ':[],\n",
    "                        'ADJ':[], 'X': [], 'NUM': [], 'PRT': []}\n",
    "for key, value in type_features.items():\n",
    "    pos = pos_dict.get(key, 0)\n",
    "    try:\n",
    "        WORD_GAZE_DURATION_d[pos].append(value[2])\n",
    "    except:\n",
    "        pass\n",
    "\n",
    "# average over all values for this class\n",
    "for key, value in WORD_GAZE_DURATION_d.items():\n",
    "    WORD_GAZE_DURATION_d[key] = mean(value)"
   ]
  },
  {
   "cell_type": "code",
   "execution_count": 6,
   "metadata": {},
   "outputs": [],
   "source": [
    "# now for word skip\n",
    "WORD_SKIP_d = {'VERB': [], 'NOUN': [], 'PRON': [], 'DET':[], 'ADP': [], 'ADV':[], 'CONJ':[],\n",
    "                        'ADJ':[], 'X': [], 'NUM': [], 'PRT': []}\n",
    "for key, value in type_features.items():\n",
    "    pos = pos_dict.get(key, 0)\n",
    "    try:\n",
    "        WORD_SKIP_d[pos].append(value[8])\n",
    "    except:\n",
    "        pass\n",
    "\n",
    "# average over all values for this class\n",
    "for key, value in WORD_SKIP_d.items():\n",
    "    WORD_SKIP_d[key] = mean(value)"
   ]
  },
  {
   "cell_type": "code",
   "execution_count": 7,
   "metadata": {},
   "outputs": [],
   "source": [
    "# now for third fixation duration\n",
    "WORD_THIRD_FIXATION_DURATION_d = {'VERB': [], 'NOUN': [], 'PRON': [], 'DET':[], 'ADP': [], 'ADV':[], 'CONJ':[],\n",
    "                        'ADJ':[], 'X': [], 'NUM': [], 'PRT': []}\n",
    "for key, value in type_features.items():\n",
    "    pos = pos_dict.get(key, 0)\n",
    "    try:\n",
    "        WORD_THIRD_FIXATION_DURATION_d[pos].append(value[5])\n",
    "    except:\n",
    "        pass\n",
    "\n",
    "# average over all values for this class\n",
    "for key, value in WORD_THIRD_FIXATION_DURATION_d.items():\n",
    "    WORD_THIRD_FIXATION_DURATION_d[key] = mean(value)"
   ]
  },
  {
   "cell_type": "code",
   "execution_count": 8,
   "metadata": {},
   "outputs": [],
   "source": [
    "# now for first fixation duration\n",
    "WORD_FIRST_FIXATION_DURATION_d = {'VERB': [], 'NOUN': [], 'PRON': [], 'DET':[], 'ADP': [], 'ADV':[], 'CONJ':[],\n",
    "                        'ADJ':[], 'X': [], 'NUM': [], 'PRT': []}\n",
    "for key, value in type_features.items():\n",
    "    pos = pos_dict.get(key, 0)\n",
    "    try:\n",
    "        WORD_FIRST_FIXATION_DURATION_d[pos].append(value[3])\n",
    "    except:\n",
    "        pass\n",
    "\n",
    "# average over all values for this class\n",
    "for key, value in WORD_FIRST_FIXATION_DURATION_d.items():\n",
    "    WORD_FIRST_FIXATION_DURATION_d[key] = mean(value)"
   ]
  },
  {
   "cell_type": "code",
   "execution_count": null,
   "metadata": {},
   "outputs": [],
   "source": [
    "'''\n",
    "Open classes: ADJ, ADV, INTJ, NOUN, PROP, VERB (gray)\n",
    "Closed classes: ADP, AUX, CONJ, DET, NUM, PART, PRON (purple)\n",
    "'''"
   ]
  },
  {
   "cell_type": "code",
   "execution_count": 9,
   "metadata": {},
   "outputs": [
    {
     "data": {
      "image/png": "[encoded data removed]",
      "text/plain": [
       "<Figure size 432x288 with 1 Axes>"
      ]
     },
     "metadata": {
      "needs_background": "light"
     },
     "output_type": "display_data"
    }
   ],
   "source": [
    "# total fixations on the current word\n",
    "keys = WORD_FIXATION_COUNT_d.keys()\n",
    "values = WORD_FIXATION_COUNT_d.values()\n",
    "plt.bar(keys, values, color=['gray', 'gray', 'purple', 'purple', 'purple', 'gray', 'purple', \n",
    "                            'gray', 'purple', 'purple', 'purple'], edgecolor='black')\n",
    "plt.rcParams[\"figure.figsize\"] = (8,5)\n",
    "plt.rcParams.update({'font.size': 12})\n",
    "plt.xlabel('Part of speech') \n",
    "plt.ylabel('Count (avg over types)') \n",
    "plt.savefig('word_fixation_count.png', facecolor='w')\n",
    "plt.show()"
   ]
  },
  {
   "cell_type": "code",
   "execution_count": 11,
   "metadata": {
    "scrolled": true
   },
   "outputs": [
    {
     "data": {
      "image/png": "[encoded data removed]",
      "text/plain": [
       "<Figure size 576x360 with 1 Axes>"
      ]
     },
     "metadata": {
      "needs_background": "light"
     },
     "output_type": "display_data"
    }
   ],
   "source": [
    "# total fixations on the current word\n",
    "keys2 = WORD_GAZE_DURATION_d.keys()\n",
    "values2 = WORD_GAZE_DURATION_d.values()\n",
    "plt.bar(keys2, values2, color=['gray', 'gray', 'purple', 'purple', 'purple', 'gray', 'purple', \n",
    "                            'gray', 'purple', 'purple', 'purple'], edgecolor='black')\n",
    "plt.rcParams[\"figure.figsize\"] = (8,5)\n",
    "plt.rcParams.update({'font.size': 12})\n",
    "plt.xlabel('Part of speech') \n",
    "plt.ylabel('Time (ms)') \n",
    "plt.savefig('word_gaze_duration.png', facecolor='w')\n",
    "plt.show()"
   ]
  },
  {
   "cell_type": "code",
   "execution_count": 12,
   "metadata": {},
   "outputs": [
    {
     "data": {
      "image/png": "[encoded data removed]",
      "text/plain": [
       "<Figure size 576x360 with 1 Axes>"
      ]
     },
     "metadata": {
      "needs_background": "light"
     },
     "output_type": "display_data"
    }
   ],
   "source": [
    "# total fixations on the current word\n",
    "keys2 = WORD_SKIP_d.keys()\n",
    "values2 = WORD_SKIP_d.values()\n",
    "plt.bar(keys2, values2, color=['gray', 'gray', 'purple', 'purple', 'purple', 'gray', 'purple', \n",
    "                            'gray', 'purple', 'purple', 'purple'], edgecolor='black')\n",
    "plt.rcParams[\"figure.figsize\"] = (8,5)\n",
    "plt.rcParams.update({'font.size': 12})\n",
    "plt.xlabel('Part of speech') \n",
    "plt.ylabel('Percentage of skips') \n",
    "plt.savefig('word_skip_percent.png', facecolor='w')\n",
    "plt.show()"
   ]
  },
  {
   "cell_type": "code",
   "execution_count": 13,
   "metadata": {},
   "outputs": [
    {
     "data": {
      "image/png": "[encoded data removed]",
      "text/plain": [
       "<Figure size 576x360 with 1 Axes>"
      ]
     },
     "metadata": {
      "needs_background": "light"
     },
     "output_type": "display_data"
    }
   ],
   "source": [
    "# total fixations on the current word\n",
    "keys2 = WORD_FIRST_FIXATION_DURATION_d.keys()\n",
    "values2 = WORD_FIRST_FIXATION_DURATION_d.values()\n",
    "plt.bar(keys2, values2, color=['gray', 'gray', 'purple', 'purple', 'purple', 'gray', 'purple', \n",
    "                            'gray', 'purple', 'purple', 'purple'], edgecolor='black')\n",
    "plt.rcParams[\"figure.figsize\"] = (8,5)\n",
    "plt.rcParams.update({'font.size': 12})\n",
    "plt.xlabel('Part of speech') \n",
    "plt.ylabel('Time (ms)') \n",
    "plt.savefig('word_first_fixation_duration.png', facecolor='w')\n",
    "plt.show()"
   ]
  },
  {
   "cell_type": "code",
   "execution_count": 14,
   "metadata": {
    "scrolled": true
   },
   "outputs": [
    {
     "data": {
      "image/png": "[encoded data removed]",
      "text/plain": [
       "<Figure size 576x360 with 1 Axes>"
      ]
     },
     "metadata": {
      "needs_background": "light"
     },
     "output_type": "display_data"
    }
   ],
   "source": [
    "# total fixations on the current word\n",
    "keys2 = WORD_THIRD_FIXATION_DURATION_d.keys()\n",
    "values2 = WORD_THIRD_FIXATION_DURATION_d.values()\n",
    "plt.bar(keys2, values2, color=['gray', 'gray', 'purple', 'purple', 'purple', 'gray', 'purple', \n",
    "                            'gray', 'purple', 'purple', 'purple'], edgecolor='black')\n",
    "plt.rcParams[\"figure.figsize\"] = (8,5)\n",
    "plt.rcParams.update({'font.size': 12})\n",
    "plt.xlabel('Part of speech') \n",
    "plt.ylabel('Time (ms)') \n",
    "plt.savefig('word_third_fixation_duration.png', facecolor='w')\n",
    "plt.show()"
   ]
  },
  {
   "cell_type": "code",
   "execution_count": null,
   "metadata": {},
   "outputs": [],
   "source": []
  }
 ],
 "metadata": {
  "kernelspec": {
   "display_name": "Python 3",
   "language": "python",
   "name": "python3"
  },
  "language_info": {
   "codemirror_mode": {
    "name": "ipython",
    "version": 3
   },
   "file_extension": ".py",
   "mimetype": "text/x-python",
   "name": "python",
   "nbconvert_exporter": "python",
   "pygments_lexer": "ipython3",
   "version": "3.8.5"
  }
 },
 "nbformat": 4,
 "nbformat_minor": 4
}
