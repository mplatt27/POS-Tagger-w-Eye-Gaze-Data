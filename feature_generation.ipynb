{
 "cells": [
  {
   "cell_type": "code",
   "execution_count": null,
   "metadata": {},
   "outputs": [],
   "source": [
    "\"\"\"\n",
    "  Feature generation\n",
    "  author: MP\n",
    "  date: 4/29/2021\n",
    "  \n",
    "  The following code generates features from the dataset. \n",
    "  \n",
    "  1. Create files to save the eye gaze features\n",
    "      - csv files for tokens and types\n",
    "      - pickle tokens mapped to features\n",
    "      - pickle tokens mapped to POS tag\n",
    "  2. Create feature templates in the format the we need for MINITAGGER (Stratos and Collins, 2015)\n",
    "      - Brown clusters\n",
    "      - eye gaze features\n",
    "      - word embeddings\n",
    "  \n",
    "\"\"\""
   ]
  },
  {
   "cell_type": "code",
   "execution_count": null,
   "metadata": {},
   "outputs": [],
   "source": [
    "import pandas as pd\n",
    "import os\n",
    "import re\n",
    "import numpy as np\n",
    "import pickle\n",
    "from sklearn.model_selection import train_test_split"
   ]
  },
  {
   "cell_type": "code",
   "execution_count": null,
   "metadata": {},
   "outputs": [],
   "source": [
    "\"\"\"\n",
    "1. Get eye movement features from GECO data as by token and by type. The features used will be:\n",
    "\n",
    "-WORD_FIXATION_%\n",
    "-WORD_FIXATION_COUNT\n",
    "-WORD_GAZE DURATION\n",
    "-WORD_RUN_COUNT\n",
    "-WORD_TOTAL_READING_TIME\n",
    "-WORD_TOTAL_READING_TIME_%\n",
    "-WORD_SKIP\n",
    "-WORD_SPILLOVER\n",
    "-WORD_FIRST_FIXATION_DURATION\n",
    "-WORD_FIRST_FIXATION_DURATION + SECOND + THIRD + LAST / 4 (MEAN)\n",
    " \n",
    "\"\"\""
   ]
  },
  {
   "cell_type": "code",
   "execution_count": null,
   "metadata": {},
   "outputs": [],
   "source": [
    "PTH_DATA = 'C:/6120-NLP/project/data/geco-raw/gaze_features_all.csv'\n",
    "dataset_filtered = pd.read_csv(PTH_DATA)"
   ]
  },
  {
   "cell_type": "code",
   "execution_count": null,
   "metadata": {},
   "outputs": [],
   "source": [
    "# average over participant, so we have a feature for each token\n",
    "dataset_tokens = dataset_filtered.groupby(['WORD_ID','WORD_CLEAN']).mean().reset_index()\n",
    "dataset_tokens.to_csv(\"C:/6120-NLP/project/token_features.csv\", index = False, header=True)"
   ]
  },
  {
   "cell_type": "code",
   "execution_count": null,
   "metadata": {},
   "outputs": [],
   "source": [
    "# average over each token, so we have type feautres\n",
    "dataset_types = dataset_tokens.groupby(['WORD_CLEAN']).mean().reset_index()\n",
    "dataset_types.to_csv(\"C:/6120-NLP/project/type_features.csv\", index = False, header=True)"
   ]
  },
  {
   "cell_type": "code",
   "execution_count": null,
   "metadata": {},
   "outputs": [],
   "source": [
    "# create a type dictionary and dump to pickle to save for later (as back up to csv)\n",
    "# will map word type to np array of eye movement features according to the order in the pd dataframe\n",
    "type_dict = {}\n",
    "for i in range(len(dataset_types)):\n",
    "    f = np.array([dataset_types.loc[i, 'WORD_FIXATION_COUNT'],\n",
    "             dataset_types.loc[i, 'WORD_FIXATION_%'],\n",
    "             dataset_types.loc[i, 'WORD_GAZE_DURATION'],\n",
    "             dataset_types.loc[i, 'WORD_FIRST_FIXATION_DURATION'],\n",
    "             dataset_types.loc[i, 'WORD_SECOND_FIXATION_DURATION'],\n",
    "             dataset_types.loc[i, 'WORD_THIRD_FIXATION_DURATION'],\n",
    "             dataset_types.loc[i, 'WORD_TOTAL_READING_TIME'],\n",
    "             dataset_types.loc[i, 'WORD_TOTAL_READING_TIME_%'],\n",
    "             dataset_types.loc[i, 'WORD_SKIP'],\n",
    "             dataset_types.loc[i, 'WORD_SPILLOVER'],\n",
    "             dataset_types.loc[i, 'WORD_RUN_COUNT']])\n",
    "    \n",
    "    type_dict[dataset_types.loc[i, 'WORD_CLEAN']] = f"
   ]
  },
  {
   "cell_type": "code",
   "execution_count": null,
   "metadata": {},
   "outputs": [],
   "source": [
    "# save type dictionary to pickle\n",
    "with open('type_dict.pickle', 'wb') as handle:\n",
    "    pickle.dump(type_dict, handle, protocol=pickle.HIGHEST_PROTOCOL)"
   ]
  },
  {
   "cell_type": "code",
   "execution_count": null,
   "metadata": {},
   "outputs": [],
   "source": [
    "# create pos dictionary for each type in case we want to check them later\n",
    "# this isn't entirely accurate, as a word could represent several pos, but since we are using types we choose one\n",
    "pos_dict = {}\n",
    "for i in range(len(keyset)):\n",
    "    pos_dict[keyset.loc[i, 'WORD']] = keyset.loc[i, 'PART_OF_SPEECH']"
   ]
  },
  {
   "cell_type": "code",
   "execution_count": null,
   "metadata": {},
   "outputs": [],
   "source": [
    "# save pos dictionary to pickle\n",
    "with open('pos_dict.pickle', 'wb') as handle:\n",
    "    pickle.dump(pos_dict, handle, protocol=pickle.HIGHEST_PROTOCOL)"
   ]
  },
  {
   "cell_type": "code",
   "execution_count": null,
   "metadata": {},
   "outputs": [],
   "source": [
    "\"\"\"\n",
    "5. Create feature files in the format that we need for MINITAGGER (Stratos and Collins, 2015).\n",
    "\n",
    "Input feature template format:\n",
    "\n",
    "Bitstrings (from Brown clusters)\n",
    "\"\"\""
   ]
  },
  {
   "cell_type": "code",
   "execution_count": null,
   "metadata": {},
   "outputs": [],
   "source": []
  }
 ],
 "metadata": {
  "kernelspec": {
   "display_name": "Python 3",
   "language": "python",
   "name": "python3"
  },
  "language_info": {
   "codemirror_mode": {
    "name": "ipython",
    "version": 3
   },
   "file_extension": ".py",
   "mimetype": "text/x-python",
   "name": "python",
   "nbconvert_exporter": "python",
   "pygments_lexer": "ipython3",
   "version": "3.8.5"
  }
 },
 "nbformat": 4,
 "nbformat_minor": 4
}
